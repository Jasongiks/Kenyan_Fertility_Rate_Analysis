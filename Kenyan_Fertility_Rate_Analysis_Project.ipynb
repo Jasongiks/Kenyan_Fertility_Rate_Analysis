{
  "nbformat": 4,
  "nbformat_minor": 0,
  "metadata": {
    "kernelspec": {
      "display_name": "Python 3",
      "language": "python",
      "name": "python3"
    },
    "language_info": {
      "codemirror_mode": {
        "name": "ipython",
        "version": 3
      },
      "file_extension": ".py",
      "mimetype": "text/x-python",
      "name": "python",
      "nbconvert_exporter": "python",
      "pygments_lexer": "ipython3",
      "version": "3.7.4"
    },
    "colab": {
      "name": "Statistical Analysis with Python Project.ipynb",
      "provenance": [],
      "collapsed_sections": [
        "Ee45mguRBJ40",
        "ctyrDbwjBJ41",
        "t5knWWM6BJ42",
        "SsRaHFwfBJ43",
        "1YLTcqDMBJ43"
      ],
      "toc_visible": true,
      "include_colab_link": true
    }
  },
  "cells": [
    {
      "cell_type": "markdown",
      "metadata": {
        "id": "view-in-github",
        "colab_type": "text"
      },
      "source": [
        "<a href=\"https://colab.research.google.com/github/Jasongiks/Kenyan_Fertility_Rate_Analysis/blob/main/Kenyan_Fertility_Rate_Analysis_Project.ipynb\" target=\"_parent\"><img src=\"https://colab.research.google.com/assets/colab-badge.svg\" alt=\"Open In Colab\"/></a>"
      ]
    },
    {
      "cell_type": "markdown",
      "metadata": {
        "id": "ATDwMjleBJ4y"
      },
      "source": [
        "# <font color='#6a5acd'>Statistical Analysis with Python - Guiding Notebook</font>"
      ]
    },
    {
      "cell_type": "markdown",
      "metadata": {
        "id": "yy9C9dLyBJ40"
      },
      "source": [
        "## <font color='#2F4F4F'>1. Defining the Question</font>"
      ]
    },
    {
      "cell_type": "markdown",
      "metadata": {
        "id": "Ee45mguRBJ40"
      },
      "source": [
        "### a) Specifying the Data Analysis Question\n",
        "\n",
        "What are the factors that determine the number of children born to a woman of reproductive age in Kenya?"
      ]
    },
    {
      "cell_type": "markdown",
      "metadata": {
        "id": "ctyrDbwjBJ41"
      },
      "source": [
        "### b) Defining the Metric for Success\n",
        "\n",
        "This project will be a success when we are able to carry out data analysis to gain insights that answer the research question."
      ]
    },
    {
      "cell_type": "markdown",
      "metadata": {
        "id": "t5knWWM6BJ42"
      },
      "source": [
        "### c) Understanding the context \n",
        "\n",
        "The Demographic and Health Surveys (DHS) Program has collected, analyzed, and disseminated accurate and representative data on population, health, HIV, and nutrition through more than 400 surveys in over 90 countries.\n",
        "\n",
        "As a Data professional you are tasked to determine the main factors that can help determine the number of total children ever born by a woman of reproductive age in Kenya. You are provided with the Kenya Demographics Health Survey (KDHS 2014) data set."
      ]
    },
    {
      "cell_type": "markdown",
      "metadata": {
        "id": "SsRaHFwfBJ43"
      },
      "source": [
        "### d) Recording the Experimental Design\n",
        "\n",
        "1. Load libraries\n",
        "2. Load dataset with the following variables:\n",
        "    * CASEID : Unique Case identifier\n",
        "    * V010 : Respondents Year of Birth\n",
        "    * V012 : Respondents current age\n",
        "    * V025 : Type of residence\n",
        "    * V024 : Region\n",
        "    * V106 : Highest level of education\n",
        "    * V152 : Age of household headV201 : Total children ever born\n",
        "3. Answer the deliverables outlined below\n",
        "4. Summarize findings.\n",
        "\n",
        "**Deliverables:**\n",
        "* Input the dataset provided and display the head(5) of the dataset with the above variables of interest only.\n",
        "* Calculate the mean, median and mode for V012 , V152 and V201. Would you prefer mean or median for V201?\n",
        "* Calculate the Range, IQR and standard deviation for V012 and V152. Comment on variability of the variables.\n",
        "* Plot a histogram of V012 and V152 and explain the skewness.\n",
        "* Create a frequency table for V024 and V106 then plot a barchart for the two variables.\n",
        "* Create a boxplot of V201 by (V025, V106, V024) separately.\n",
        "* Create a scatter plot and compute the Pearson Correlation Coefficient between V201 and V012 explaining your findings."
      ]
    },
    {
      "cell_type": "markdown",
      "metadata": {
        "id": "1YLTcqDMBJ43"
      },
      "source": [
        "### e) Data Relevance\n",
        "\n",
        "While this data set provided the information necessary to answer the research question, it could benefit from having more data, such as the income level of the respondents, their marital status, and so on."
      ]
    },
    {
      "cell_type": "markdown",
      "metadata": {
        "id": "VkB4k57ZBJ44"
      },
      "source": [
        "## <font color='#2F4F4F'>2. Data Cleaning & Analysis</font>"
      ]
    },
    {
      "cell_type": "code",
      "metadata": {
        "id": "HaTRnjkOBJ44"
      },
      "source": [
        "# loading libraries\n",
        "import pandas as pd\n",
        "import numpy as np\n",
        "\n",
        "import matplotlib.pyplot as plt\n",
        "import seaborn as sns"
      ],
      "execution_count": null,
      "outputs": []
    },
    {
      "cell_type": "code",
      "metadata": {
        "id": "PYGpdTddBJ4-",
        "colab": {
          "base_uri": "https://localhost:8080/",
          "height": 559
        },
        "outputId": "132e4436-44a9-4cc8-c004-dd4bdf5c82ed"
      },
      "source": [
        "# loading the main data set\n",
        "# kdhs2014 = pd.read_csv('kdhs2014_childfile.csv')\n",
        "kdhs2014 = pd.read_csv('https://bit.ly/khds_dataset')\n",
        "kdhs2014.head(5)"
      ],
      "execution_count": null,
      "outputs": [
        {
          "output_type": "stream",
          "text": [
            "/usr/local/lib/python3.6/dist-packages/IPython/core/interactiveshell.py:2718: DtypeWarning: Columns (47,71,89,123,125,133,135,136,145,146,147,148,203,206,291,292,293,294,295,296,297,298,299,300,301,343,344,392,413,430,439,449,450,451,453,461,463,468,502,517,549,551,553,554,578,664,668,672,676,684,691,817,821,838,849,850,851,852,882,883,884,885,886,887,888,889,890,891,892,893,904,905,912,914,929,933,934,935,936,979,980,981,1007,1008,1009,1010,1011,1021,1022,1023) have mixed types.Specify dtype option on import or set low_memory=False.\n",
            "  interactivity=interactivity, compiler=compiler, result=result)\n"
          ],
          "name": "stderr"
        },
        {
          "output_type": "execute_result",
          "data": {
            "text/html": [
              "<div>\n",
              "<style scoped>\n",
              "    .dataframe tbody tr th:only-of-type {\n",
              "        vertical-align: middle;\n",
              "    }\n",
              "\n",
              "    .dataframe tbody tr th {\n",
              "        vertical-align: top;\n",
              "    }\n",
              "\n",
              "    .dataframe thead th {\n",
              "        text-align: right;\n",
              "    }\n",
              "</style>\n",
              "<table border=\"1\" class=\"dataframe\">\n",
              "  <thead>\n",
              "    <tr style=\"text-align: right;\">\n",
              "      <th></th>\n",
              "      <th>Unnamed: 0</th>\n",
              "      <th>CASEID</th>\n",
              "      <th>MIDX</th>\n",
              "      <th>V000</th>\n",
              "      <th>V001</th>\n",
              "      <th>V002</th>\n",
              "      <th>V003</th>\n",
              "      <th>V004</th>\n",
              "      <th>V005</th>\n",
              "      <th>V006</th>\n",
              "      <th>V007</th>\n",
              "      <th>V008</th>\n",
              "      <th>V009</th>\n",
              "      <th>V010</th>\n",
              "      <th>V011</th>\n",
              "      <th>V012</th>\n",
              "      <th>V013</th>\n",
              "      <th>V014</th>\n",
              "      <th>V015</th>\n",
              "      <th>V016</th>\n",
              "      <th>V017</th>\n",
              "      <th>V018</th>\n",
              "      <th>V019</th>\n",
              "      <th>V019A</th>\n",
              "      <th>V020</th>\n",
              "      <th>V021</th>\n",
              "      <th>V022</th>\n",
              "      <th>V023</th>\n",
              "      <th>V024</th>\n",
              "      <th>V025</th>\n",
              "      <th>V026</th>\n",
              "      <th>V027</th>\n",
              "      <th>V028</th>\n",
              "      <th>V029</th>\n",
              "      <th>V030</th>\n",
              "      <th>V031</th>\n",
              "      <th>V032</th>\n",
              "      <th>V034</th>\n",
              "      <th>V040</th>\n",
              "      <th>V042</th>\n",
              "      <th>...</th>\n",
              "      <th>SYPN1</th>\n",
              "      <th>SPN2</th>\n",
              "      <th>SDPN2</th>\n",
              "      <th>SMPN2</th>\n",
              "      <th>SYPN2</th>\n",
              "      <th>SPN3</th>\n",
              "      <th>SDPN3</th>\n",
              "      <th>SMPN3</th>\n",
              "      <th>SYPN3</th>\n",
              "      <th>SRV1</th>\n",
              "      <th>SDRV1</th>\n",
              "      <th>SMRV1</th>\n",
              "      <th>SYRV1</th>\n",
              "      <th>SRV2</th>\n",
              "      <th>SDRV2</th>\n",
              "      <th>SMRV2</th>\n",
              "      <th>SYRV2</th>\n",
              "      <th>SYF</th>\n",
              "      <th>SDYF</th>\n",
              "      <th>SMYF</th>\n",
              "      <th>SYYF</th>\n",
              "      <th>SAMZ</th>\n",
              "      <th>SDAMZ</th>\n",
              "      <th>SMAMZ</th>\n",
              "      <th>SYAMZ</th>\n",
              "      <th>S521BA</th>\n",
              "      <th>S521BB</th>\n",
              "      <th>S521BC</th>\n",
              "      <th>S521BD</th>\n",
              "      <th>S521BE</th>\n",
              "      <th>S521BX</th>\n",
              "      <th>S539AA</th>\n",
              "      <th>S539AB</th>\n",
              "      <th>S539AC</th>\n",
              "      <th>S539AD</th>\n",
              "      <th>S539AE</th>\n",
              "      <th>S539AF</th>\n",
              "      <th>S539AG</th>\n",
              "      <th>S539AY</th>\n",
              "      <th>S522C</th>\n",
              "    </tr>\n",
              "  </thead>\n",
              "  <tbody>\n",
              "    <tr>\n",
              "      <th>0</th>\n",
              "      <td>1</td>\n",
              "      <td>0001019 02</td>\n",
              "      <td>1</td>\n",
              "      <td>KE6</td>\n",
              "      <td>1</td>\n",
              "      <td>19</td>\n",
              "      <td>2</td>\n",
              "      <td>1</td>\n",
              "      <td>5476381</td>\n",
              "      <td>8</td>\n",
              "      <td>2014</td>\n",
              "      <td>1376</td>\n",
              "      <td>8</td>\n",
              "      <td>1991</td>\n",
              "      <td>1100</td>\n",
              "      <td>23</td>\n",
              "      <td>20-24</td>\n",
              "      <td>Month and year - information complete</td>\n",
              "      <td>Completed</td>\n",
              "      <td>19</td>\n",
              "      <td>1309</td>\n",
              "      <td>13</td>\n",
              "      <td>68</td>\n",
              "      <td>2</td>\n",
              "      <td>All woman sample</td>\n",
              "      <td>1</td>\n",
              "      <td>1</td>\n",
              "      <td>1</td>\n",
              "      <td>Nairobi</td>\n",
              "      <td>Urban</td>\n",
              "      <td>NaN</td>\n",
              "      <td>1</td>\n",
              "      <td>178</td>\n",
              "      <td>7</td>\n",
              "      <td>175</td>\n",
              "      <td>177</td>\n",
              "      <td>6.0</td>\n",
              "      <td>NaN</td>\n",
              "      <td>NaN</td>\n",
              "      <td>NaN</td>\n",
              "      <td>...</td>\n",
              "      <td>NaN</td>\n",
              "      <td>NaN</td>\n",
              "      <td>NaN</td>\n",
              "      <td>NaN</td>\n",
              "      <td>NaN</td>\n",
              "      <td>NaN</td>\n",
              "      <td>NaN</td>\n",
              "      <td>NaN</td>\n",
              "      <td>NaN</td>\n",
              "      <td>NaN</td>\n",
              "      <td>NaN</td>\n",
              "      <td>NaN</td>\n",
              "      <td>NaN</td>\n",
              "      <td>NaN</td>\n",
              "      <td>NaN</td>\n",
              "      <td>NaN</td>\n",
              "      <td>NaN</td>\n",
              "      <td>NaN</td>\n",
              "      <td>NaN</td>\n",
              "      <td>NaN</td>\n",
              "      <td>NaN</td>\n",
              "      <td>NaN</td>\n",
              "      <td>NaN</td>\n",
              "      <td>NaN</td>\n",
              "      <td>NaN</td>\n",
              "      <td>NaN</td>\n",
              "      <td>NaN</td>\n",
              "      <td>NaN</td>\n",
              "      <td>NaN</td>\n",
              "      <td>NaN</td>\n",
              "      <td>NaN</td>\n",
              "      <td>NaN</td>\n",
              "      <td>NaN</td>\n",
              "      <td>NaN</td>\n",
              "      <td>NaN</td>\n",
              "      <td>NaN</td>\n",
              "      <td>NaN</td>\n",
              "      <td>NaN</td>\n",
              "      <td>NaN</td>\n",
              "      <td>NaN</td>\n",
              "    </tr>\n",
              "    <tr>\n",
              "      <th>1</th>\n",
              "      <td>2</td>\n",
              "      <td>0001019 03</td>\n",
              "      <td>1</td>\n",
              "      <td>KE6</td>\n",
              "      <td>1</td>\n",
              "      <td>19</td>\n",
              "      <td>3</td>\n",
              "      <td>1</td>\n",
              "      <td>5476381</td>\n",
              "      <td>8</td>\n",
              "      <td>2014</td>\n",
              "      <td>1376</td>\n",
              "      <td>2</td>\n",
              "      <td>1991</td>\n",
              "      <td>1094</td>\n",
              "      <td>23</td>\n",
              "      <td>20-24</td>\n",
              "      <td>Month and year - information complete</td>\n",
              "      <td>Completed</td>\n",
              "      <td>31</td>\n",
              "      <td>1309</td>\n",
              "      <td>13</td>\n",
              "      <td>68</td>\n",
              "      <td>2</td>\n",
              "      <td>All woman sample</td>\n",
              "      <td>1</td>\n",
              "      <td>1</td>\n",
              "      <td>1</td>\n",
              "      <td>Nairobi</td>\n",
              "      <td>Urban</td>\n",
              "      <td>NaN</td>\n",
              "      <td>3</td>\n",
              "      <td>178</td>\n",
              "      <td>7</td>\n",
              "      <td>175</td>\n",
              "      <td>177</td>\n",
              "      <td>6.0</td>\n",
              "      <td>NaN</td>\n",
              "      <td>NaN</td>\n",
              "      <td>NaN</td>\n",
              "      <td>...</td>\n",
              "      <td>NaN</td>\n",
              "      <td>NaN</td>\n",
              "      <td>NaN</td>\n",
              "      <td>NaN</td>\n",
              "      <td>NaN</td>\n",
              "      <td>NaN</td>\n",
              "      <td>NaN</td>\n",
              "      <td>NaN</td>\n",
              "      <td>NaN</td>\n",
              "      <td>NaN</td>\n",
              "      <td>NaN</td>\n",
              "      <td>NaN</td>\n",
              "      <td>NaN</td>\n",
              "      <td>NaN</td>\n",
              "      <td>NaN</td>\n",
              "      <td>NaN</td>\n",
              "      <td>NaN</td>\n",
              "      <td>NaN</td>\n",
              "      <td>NaN</td>\n",
              "      <td>NaN</td>\n",
              "      <td>NaN</td>\n",
              "      <td>NaN</td>\n",
              "      <td>NaN</td>\n",
              "      <td>NaN</td>\n",
              "      <td>NaN</td>\n",
              "      <td>NaN</td>\n",
              "      <td>NaN</td>\n",
              "      <td>NaN</td>\n",
              "      <td>NaN</td>\n",
              "      <td>NaN</td>\n",
              "      <td>NaN</td>\n",
              "      <td>NaN</td>\n",
              "      <td>NaN</td>\n",
              "      <td>NaN</td>\n",
              "      <td>NaN</td>\n",
              "      <td>NaN</td>\n",
              "      <td>NaN</td>\n",
              "      <td>NaN</td>\n",
              "      <td>NaN</td>\n",
              "      <td>NaN</td>\n",
              "    </tr>\n",
              "    <tr>\n",
              "      <th>2</th>\n",
              "      <td>3</td>\n",
              "      <td>0001033 02</td>\n",
              "      <td>1</td>\n",
              "      <td>KE6</td>\n",
              "      <td>1</td>\n",
              "      <td>33</td>\n",
              "      <td>2</td>\n",
              "      <td>1</td>\n",
              "      <td>5476381</td>\n",
              "      <td>8</td>\n",
              "      <td>2014</td>\n",
              "      <td>1376</td>\n",
              "      <td>8</td>\n",
              "      <td>1988</td>\n",
              "      <td>1064</td>\n",
              "      <td>26</td>\n",
              "      <td>25-29</td>\n",
              "      <td>Month and year - information complete</td>\n",
              "      <td>Completed</td>\n",
              "      <td>19</td>\n",
              "      <td>1309</td>\n",
              "      <td>13</td>\n",
              "      <td>68</td>\n",
              "      <td>2</td>\n",
              "      <td>All woman sample</td>\n",
              "      <td>1</td>\n",
              "      <td>1</td>\n",
              "      <td>1</td>\n",
              "      <td>Nairobi</td>\n",
              "      <td>Urban</td>\n",
              "      <td>NaN</td>\n",
              "      <td>1</td>\n",
              "      <td>179</td>\n",
              "      <td>7</td>\n",
              "      <td>175</td>\n",
              "      <td>177</td>\n",
              "      <td>6.0</td>\n",
              "      <td>1</td>\n",
              "      <td>NaN</td>\n",
              "      <td>NaN</td>\n",
              "      <td>...</td>\n",
              "      <td>NaN</td>\n",
              "      <td>NaN</td>\n",
              "      <td>NaN</td>\n",
              "      <td>NaN</td>\n",
              "      <td>NaN</td>\n",
              "      <td>NaN</td>\n",
              "      <td>NaN</td>\n",
              "      <td>NaN</td>\n",
              "      <td>NaN</td>\n",
              "      <td>NaN</td>\n",
              "      <td>NaN</td>\n",
              "      <td>NaN</td>\n",
              "      <td>NaN</td>\n",
              "      <td>NaN</td>\n",
              "      <td>NaN</td>\n",
              "      <td>NaN</td>\n",
              "      <td>NaN</td>\n",
              "      <td>NaN</td>\n",
              "      <td>NaN</td>\n",
              "      <td>NaN</td>\n",
              "      <td>NaN</td>\n",
              "      <td>NaN</td>\n",
              "      <td>NaN</td>\n",
              "      <td>NaN</td>\n",
              "      <td>NaN</td>\n",
              "      <td>NaN</td>\n",
              "      <td>NaN</td>\n",
              "      <td>NaN</td>\n",
              "      <td>NaN</td>\n",
              "      <td>NaN</td>\n",
              "      <td>NaN</td>\n",
              "      <td>NaN</td>\n",
              "      <td>NaN</td>\n",
              "      <td>NaN</td>\n",
              "      <td>NaN</td>\n",
              "      <td>NaN</td>\n",
              "      <td>NaN</td>\n",
              "      <td>NaN</td>\n",
              "      <td>NaN</td>\n",
              "      <td>NaN</td>\n",
              "    </tr>\n",
              "    <tr>\n",
              "      <th>3</th>\n",
              "      <td>4</td>\n",
              "      <td>0001033 02</td>\n",
              "      <td>2</td>\n",
              "      <td>KE6</td>\n",
              "      <td>1</td>\n",
              "      <td>33</td>\n",
              "      <td>2</td>\n",
              "      <td>1</td>\n",
              "      <td>5476381</td>\n",
              "      <td>8</td>\n",
              "      <td>2014</td>\n",
              "      <td>1376</td>\n",
              "      <td>8</td>\n",
              "      <td>1988</td>\n",
              "      <td>1064</td>\n",
              "      <td>26</td>\n",
              "      <td>25-29</td>\n",
              "      <td>Month and year - information complete</td>\n",
              "      <td>Completed</td>\n",
              "      <td>19</td>\n",
              "      <td>1309</td>\n",
              "      <td>13</td>\n",
              "      <td>68</td>\n",
              "      <td>2</td>\n",
              "      <td>All woman sample</td>\n",
              "      <td>1</td>\n",
              "      <td>1</td>\n",
              "      <td>1</td>\n",
              "      <td>Nairobi</td>\n",
              "      <td>Urban</td>\n",
              "      <td>NaN</td>\n",
              "      <td>1</td>\n",
              "      <td>179</td>\n",
              "      <td>7</td>\n",
              "      <td>175</td>\n",
              "      <td>177</td>\n",
              "      <td>6.0</td>\n",
              "      <td>1</td>\n",
              "      <td>NaN</td>\n",
              "      <td>NaN</td>\n",
              "      <td>...</td>\n",
              "      <td>NaN</td>\n",
              "      <td>NaN</td>\n",
              "      <td>NaN</td>\n",
              "      <td>NaN</td>\n",
              "      <td>NaN</td>\n",
              "      <td>NaN</td>\n",
              "      <td>NaN</td>\n",
              "      <td>NaN</td>\n",
              "      <td>NaN</td>\n",
              "      <td>NaN</td>\n",
              "      <td>NaN</td>\n",
              "      <td>NaN</td>\n",
              "      <td>NaN</td>\n",
              "      <td>NaN</td>\n",
              "      <td>NaN</td>\n",
              "      <td>NaN</td>\n",
              "      <td>NaN</td>\n",
              "      <td>NaN</td>\n",
              "      <td>NaN</td>\n",
              "      <td>NaN</td>\n",
              "      <td>NaN</td>\n",
              "      <td>NaN</td>\n",
              "      <td>NaN</td>\n",
              "      <td>NaN</td>\n",
              "      <td>NaN</td>\n",
              "      <td>NaN</td>\n",
              "      <td>NaN</td>\n",
              "      <td>NaN</td>\n",
              "      <td>NaN</td>\n",
              "      <td>NaN</td>\n",
              "      <td>NaN</td>\n",
              "      <td>NaN</td>\n",
              "      <td>NaN</td>\n",
              "      <td>NaN</td>\n",
              "      <td>NaN</td>\n",
              "      <td>NaN</td>\n",
              "      <td>NaN</td>\n",
              "      <td>NaN</td>\n",
              "      <td>NaN</td>\n",
              "      <td>NaN</td>\n",
              "    </tr>\n",
              "    <tr>\n",
              "      <th>4</th>\n",
              "      <td>5</td>\n",
              "      <td>0001037 02</td>\n",
              "      <td>1</td>\n",
              "      <td>KE6</td>\n",
              "      <td>1</td>\n",
              "      <td>37</td>\n",
              "      <td>2</td>\n",
              "      <td>1</td>\n",
              "      <td>5476381</td>\n",
              "      <td>8</td>\n",
              "      <td>2014</td>\n",
              "      <td>1376</td>\n",
              "      <td>2</td>\n",
              "      <td>1992</td>\n",
              "      <td>1106</td>\n",
              "      <td>22</td>\n",
              "      <td>20-24</td>\n",
              "      <td>Month and year - information complete</td>\n",
              "      <td>Completed</td>\n",
              "      <td>19</td>\n",
              "      <td>1309</td>\n",
              "      <td>13</td>\n",
              "      <td>68</td>\n",
              "      <td>2</td>\n",
              "      <td>All woman sample</td>\n",
              "      <td>1</td>\n",
              "      <td>1</td>\n",
              "      <td>1</td>\n",
              "      <td>Nairobi</td>\n",
              "      <td>Urban</td>\n",
              "      <td>NaN</td>\n",
              "      <td>1</td>\n",
              "      <td>178</td>\n",
              "      <td>7</td>\n",
              "      <td>175</td>\n",
              "      <td>177</td>\n",
              "      <td>6.0</td>\n",
              "      <td>1</td>\n",
              "      <td>NaN</td>\n",
              "      <td>NaN</td>\n",
              "      <td>...</td>\n",
              "      <td>NaN</td>\n",
              "      <td>NaN</td>\n",
              "      <td>NaN</td>\n",
              "      <td>NaN</td>\n",
              "      <td>NaN</td>\n",
              "      <td>NaN</td>\n",
              "      <td>NaN</td>\n",
              "      <td>NaN</td>\n",
              "      <td>NaN</td>\n",
              "      <td>NaN</td>\n",
              "      <td>NaN</td>\n",
              "      <td>NaN</td>\n",
              "      <td>NaN</td>\n",
              "      <td>NaN</td>\n",
              "      <td>NaN</td>\n",
              "      <td>NaN</td>\n",
              "      <td>NaN</td>\n",
              "      <td>NaN</td>\n",
              "      <td>NaN</td>\n",
              "      <td>NaN</td>\n",
              "      <td>NaN</td>\n",
              "      <td>NaN</td>\n",
              "      <td>NaN</td>\n",
              "      <td>NaN</td>\n",
              "      <td>NaN</td>\n",
              "      <td>NaN</td>\n",
              "      <td>NaN</td>\n",
              "      <td>NaN</td>\n",
              "      <td>NaN</td>\n",
              "      <td>NaN</td>\n",
              "      <td>NaN</td>\n",
              "      <td>NaN</td>\n",
              "      <td>NaN</td>\n",
              "      <td>NaN</td>\n",
              "      <td>NaN</td>\n",
              "      <td>NaN</td>\n",
              "      <td>NaN</td>\n",
              "      <td>NaN</td>\n",
              "      <td>NaN</td>\n",
              "      <td>NaN</td>\n",
              "    </tr>\n",
              "  </tbody>\n",
              "</table>\n",
              "<p>5 rows × 1100 columns</p>\n",
              "</div>"
            ],
            "text/plain": [
              "   Unnamed: 0           CASEID  MIDX V000  ...  S539AF  S539AG  S539AY  S522C\n",
              "0           1       0001019 02     1  KE6  ...     NaN     NaN     NaN    NaN\n",
              "1           2       0001019 03     1  KE6  ...     NaN     NaN     NaN    NaN\n",
              "2           3       0001033 02     1  KE6  ...     NaN     NaN     NaN    NaN\n",
              "3           4       0001033 02     2  KE6  ...     NaN     NaN     NaN    NaN\n",
              "4           5       0001037 02     1  KE6  ...     NaN     NaN     NaN    NaN\n",
              "\n",
              "[5 rows x 1100 columns]"
            ]
          },
          "metadata": {
            "tags": []
          },
          "execution_count": 2
        }
      ]
    },
    {
      "cell_type": "code",
      "metadata": {
        "id": "dwb38gMWBJ5C",
        "colab": {
          "base_uri": "https://localhost:8080/",
          "height": 204
        },
        "outputId": "ccb93238-4bcc-44f7-f2a8-773703684f0c"
      },
      "source": [
        "# selecting only the relevant columns\n",
        "df = kdhs2014[['CASEID', 'V010', 'V012', 'V025', 'V024', 'V106', 'V152', 'V201']]\n",
        "df.head()"
      ],
      "execution_count": null,
      "outputs": [
        {
          "output_type": "execute_result",
          "data": {
            "text/html": [
              "<div>\n",
              "<style scoped>\n",
              "    .dataframe tbody tr th:only-of-type {\n",
              "        vertical-align: middle;\n",
              "    }\n",
              "\n",
              "    .dataframe tbody tr th {\n",
              "        vertical-align: top;\n",
              "    }\n",
              "\n",
              "    .dataframe thead th {\n",
              "        text-align: right;\n",
              "    }\n",
              "</style>\n",
              "<table border=\"1\" class=\"dataframe\">\n",
              "  <thead>\n",
              "    <tr style=\"text-align: right;\">\n",
              "      <th></th>\n",
              "      <th>CASEID</th>\n",
              "      <th>V010</th>\n",
              "      <th>V012</th>\n",
              "      <th>V025</th>\n",
              "      <th>V024</th>\n",
              "      <th>V106</th>\n",
              "      <th>V152</th>\n",
              "      <th>V201</th>\n",
              "    </tr>\n",
              "  </thead>\n",
              "  <tbody>\n",
              "    <tr>\n",
              "      <th>0</th>\n",
              "      <td>0001019 02</td>\n",
              "      <td>1991</td>\n",
              "      <td>23</td>\n",
              "      <td>Urban</td>\n",
              "      <td>Nairobi</td>\n",
              "      <td>Secondary</td>\n",
              "      <td>52.0</td>\n",
              "      <td>2</td>\n",
              "    </tr>\n",
              "    <tr>\n",
              "      <th>1</th>\n",
              "      <td>0001019 03</td>\n",
              "      <td>1991</td>\n",
              "      <td>23</td>\n",
              "      <td>Urban</td>\n",
              "      <td>Nairobi</td>\n",
              "      <td>Secondary</td>\n",
              "      <td>52.0</td>\n",
              "      <td>1</td>\n",
              "    </tr>\n",
              "    <tr>\n",
              "      <th>2</th>\n",
              "      <td>0001033 02</td>\n",
              "      <td>1988</td>\n",
              "      <td>26</td>\n",
              "      <td>Urban</td>\n",
              "      <td>Nairobi</td>\n",
              "      <td>Secondary</td>\n",
              "      <td>27.0</td>\n",
              "      <td>2</td>\n",
              "    </tr>\n",
              "    <tr>\n",
              "      <th>3</th>\n",
              "      <td>0001033 02</td>\n",
              "      <td>1988</td>\n",
              "      <td>26</td>\n",
              "      <td>Urban</td>\n",
              "      <td>Nairobi</td>\n",
              "      <td>Secondary</td>\n",
              "      <td>27.0</td>\n",
              "      <td>2</td>\n",
              "    </tr>\n",
              "    <tr>\n",
              "      <th>4</th>\n",
              "      <td>0001037 02</td>\n",
              "      <td>1992</td>\n",
              "      <td>22</td>\n",
              "      <td>Urban</td>\n",
              "      <td>Nairobi</td>\n",
              "      <td>Primary</td>\n",
              "      <td>29.0</td>\n",
              "      <td>3</td>\n",
              "    </tr>\n",
              "  </tbody>\n",
              "</table>\n",
              "</div>"
            ],
            "text/plain": [
              "            CASEID  V010  V012   V025     V024       V106  V152  V201\n",
              "0       0001019 02  1991    23  Urban  Nairobi  Secondary  52.0     2\n",
              "1       0001019 03  1991    23  Urban  Nairobi  Secondary  52.0     1\n",
              "2       0001033 02  1988    26  Urban  Nairobi  Secondary  27.0     2\n",
              "3       0001033 02  1988    26  Urban  Nairobi  Secondary  27.0     2\n",
              "4       0001037 02  1992    22  Urban  Nairobi    Primary  29.0     3"
            ]
          },
          "metadata": {
            "tags": []
          },
          "execution_count": 3
        }
      ]
    },
    {
      "cell_type": "code",
      "metadata": {
        "id": "toT-mnpwHlYb",
        "colab": {
          "base_uri": "https://localhost:8080/",
          "height": 34
        },
        "outputId": "c007f656-a480-439a-a451-124b3a2024de"
      },
      "source": [
        "#getting the shape of our dataset\n",
        "df.shape\n"
      ],
      "execution_count": null,
      "outputs": [
        {
          "output_type": "execute_result",
          "data": {
            "text/plain": [
              "(20964, 8)"
            ]
          },
          "metadata": {
            "tags": []
          },
          "execution_count": 4
        }
      ]
    },
    {
      "cell_type": "code",
      "metadata": {
        "id": "Ujo55ZIgDRjv",
        "colab": {
          "base_uri": "https://localhost:8080/",
          "height": 170
        },
        "outputId": "f7fae193-cc68-4a0a-fd10-de0dc950efdc"
      },
      "source": [
        "# finding and dealing with null values\n",
        "df.isnull().sum()"
      ],
      "execution_count": null,
      "outputs": [
        {
          "output_type": "execute_result",
          "data": {
            "text/plain": [
              "CASEID    0\n",
              "V010      0\n",
              "V012      0\n",
              "V025      0\n",
              "V024      0\n",
              "V106      0\n",
              "V152      1\n",
              "V201      0\n",
              "dtype: int64"
            ]
          },
          "metadata": {
            "tags": []
          },
          "execution_count": 5
        }
      ]
    },
    {
      "cell_type": "code",
      "metadata": {
        "id": "9eCUSfYmIF8R",
        "colab": {
          "base_uri": "https://localhost:8080/",
          "height": 122
        },
        "outputId": "10ade580-9f12-4925-82af-926f7dcbe3ed"
      },
      "source": [
        "#for the missing value in the V152 column, we can fill it with the average\n",
        "#of that column without greatly affecting our dataset.\n",
        "\n",
        "df.fillna(value = df['V152'].mean(),inplace = True)"
      ],
      "execution_count": null,
      "outputs": [
        {
          "output_type": "stream",
          "text": [
            "/usr/local/lib/python3.6/dist-packages/pandas/core/frame.py:4322: SettingWithCopyWarning: \n",
            "A value is trying to be set on a copy of a slice from a DataFrame\n",
            "\n",
            "See the caveats in the documentation: https://pandas.pydata.org/pandas-docs/stable/user_guide/indexing.html#returning-a-view-versus-a-copy\n",
            "  downcast=downcast,\n"
          ],
          "name": "stderr"
        }
      ]
    },
    {
      "cell_type": "code",
      "metadata": {
        "id": "dwSYPwiJDRW5",
        "colab": {
          "base_uri": "https://localhost:8080/",
          "height": 170
        },
        "outputId": "de2652c4-b78c-4668-a7c5-3f876289e581"
      },
      "source": [
        "# performing data conversion\n",
        "df.dtypes"
      ],
      "execution_count": null,
      "outputs": [
        {
          "output_type": "execute_result",
          "data": {
            "text/plain": [
              "CASEID     object\n",
              "V010        int64\n",
              "V012        int64\n",
              "V025       object\n",
              "V024       object\n",
              "V106       object\n",
              "V152      float64\n",
              "V201        int64\n",
              "dtype: object"
            ]
          },
          "metadata": {
            "tags": []
          },
          "execution_count": 7
        }
      ]
    },
    {
      "cell_type": "code",
      "metadata": {
        "id": "xt407vvhBJ5G"
      },
      "source": [
        "# dropping duplicates, if any\n",
        "df = df.drop_duplicates()"
      ],
      "execution_count": null,
      "outputs": []
    },
    {
      "cell_type": "code",
      "metadata": {
        "id": "MUQMkWjCDf0j",
        "colab": {
          "base_uri": "https://localhost:8080/",
          "height": 34
        },
        "outputId": "95808b62-153d-4f35-ec04-a75d48fdd062"
      },
      "source": [
        "# checking for the shape of the dataset\n",
        "df.shape"
      ],
      "execution_count": null,
      "outputs": [
        {
          "output_type": "execute_result",
          "data": {
            "text/plain": [
              "(14949, 8)"
            ]
          },
          "metadata": {
            "tags": []
          },
          "execution_count": 9
        }
      ]
    },
    {
      "cell_type": "code",
      "metadata": {
        "id": "d4GEsOzLBJ5I"
      },
      "source": [
        ""
      ],
      "execution_count": null,
      "outputs": []
    },
    {
      "cell_type": "code",
      "metadata": {
        "id": "KmEeRXQfBJ5M",
        "colab": {
          "base_uri": "https://localhost:8080/",
          "height": 68
        },
        "outputId": "4e7fda26-295c-4c37-ef08-7e76d7e8008e"
      },
      "source": [
        "# calculating the mean, median, and mode of the V012 variable\n",
        "\n",
        "avg_age = df['V012'].mean()\n",
        "mode_age = df['V012'].mode().iloc[0]\n",
        "med_age = df['V012'].median()\n",
        "\n",
        "#printing out the outputs\n",
        "print(\"The mean age of the respondents  is \", round(avg_age,0), \" years\")\n",
        "print(\"Most respondents were \", mode_age , \" years old\")\n",
        "print(\"The median age of the respondents is \", med_age, \" years\")"
      ],
      "execution_count": null,
      "outputs": [
        {
          "output_type": "stream",
          "text": [
            "The mean age of the respondents  is  29.0  years\n",
            "Most respondents were  25  years old\n",
            "The median age of the respondents is  28.0  years\n"
          ],
          "name": "stdout"
        }
      ]
    },
    {
      "cell_type": "code",
      "metadata": {
        "id": "BQWmJ6qoBJ5Q",
        "colab": {
          "base_uri": "https://localhost:8080/",
          "height": 68
        },
        "outputId": "32fc225c-e4ff-4be7-d979-ddbce6f03e38"
      },
      "source": [
        "# calculating the mean, median, and mode of the V152 variable\n",
        "\n",
        "avg_hse = df['V152'].mean()\n",
        "mode_hse = df['V152'].mode().iloc[0]\n",
        "med_hse = df['V152'].median()\n",
        "\n",
        "#printing out the outputs\n",
        "print(\"The mean age of the household head  is \", round(avg_hse,0), \" years\")\n",
        "print(\"Most household heads were \", mode_hse , \" years old\")\n",
        "print(\"The median age of the household head is \", med_hse, \" years\")\n"
      ],
      "execution_count": null,
      "outputs": [
        {
          "output_type": "stream",
          "text": [
            "The mean age of the household head  is  38.0  years\n",
            "Most household heads were  30.0  years old\n",
            "The median age of the household head is  35.0  years\n"
          ],
          "name": "stdout"
        }
      ]
    },
    {
      "cell_type": "code",
      "metadata": {
        "id": "6OvHGXW4BJ5T",
        "colab": {
          "base_uri": "https://localhost:8080/",
          "height": 68
        },
        "outputId": "2c7eb25c-18c7-4c63-8cde-a1542375683e"
      },
      "source": [
        "# calculating the mean, median, and mode of the V201 variable\n",
        "avg_child = df['V201'].mean()\n",
        "mode_child = df['V201'].mode().iloc[0]\n",
        "med_child = df['V201'].median()\n",
        "\n",
        "#printing out the outputs\n",
        "print(\"The mean number of children respondents had was \", round(avg_child,1) )\n",
        "print(\"Most respondents had \", mode_child , \" children\")\n",
        "print(\"The median number of children respondents had was \", med_child, \" children\")"
      ],
      "execution_count": null,
      "outputs": [
        {
          "output_type": "stream",
          "text": [
            "The mean number of children respondents had was  3.5\n",
            "Most respondents had  1  children\n",
            "The median number of children respondents had was  3.0  children\n"
          ],
          "name": "stdout"
        }
      ]
    },
    {
      "cell_type": "markdown",
      "metadata": {
        "id": "CHjc8onQBJ5W"
      },
      "source": [
        "**Would you prefer mean or median for V201?** I prefer the median since it is not affected by outliers such as the mode value."
      ]
    },
    {
      "cell_type": "code",
      "metadata": {
        "id": "S4nTZb7hBJ5W"
      },
      "source": [
        ""
      ],
      "execution_count": null,
      "outputs": []
    },
    {
      "cell_type": "code",
      "metadata": {
        "id": "PFsrMvDMBJ5Z",
        "colab": {
          "base_uri": "https://localhost:8080/",
          "height": 68
        },
        "outputId": "d2750064-d3af-435d-9e94-3e017fe9824b"
      },
      "source": [
        "# calculating the range, IQR, and standard deviation of the V012 variable\n",
        "\n",
        "#getting the max and min respondent age\n",
        "max_age = df['V012'].max()\n",
        "min_age = df['V012'].min()\n",
        "\n",
        "#Getting the range of the respondents age\n",
        "range = max_age-min_age\n",
        "\n",
        "#Getting lower and upper quantile\n",
        "low_quantile = df['V012'].quantile(0.25)\n",
        "up_quantile = df['V012'].quantile(0.75)\n",
        "\n",
        "#Getting interquantile range\n",
        "IQR = up_quantile - low_quantile\n",
        "\n",
        "#Getting the standard deviation of the respondents age\n",
        "std_age = df['V012'].std()\n",
        "\n",
        "#Printing out our values\n",
        "print(\"The range of respondents age is \", range, \"years\")\n",
        "print(\"The interquantile range of the respondents age is \", IQR)\n",
        "print(\"The standard deviation of the respondents age is \", round(std_age,3))\n"
      ],
      "execution_count": null,
      "outputs": [
        {
          "output_type": "stream",
          "text": [
            "The range of respondents age is  34 years\n",
            "The interquantile range of the respondents age is  10.0\n",
            "The standard deviation of the respondents age is  6.795\n"
          ],
          "name": "stdout"
        }
      ]
    },
    {
      "cell_type": "code",
      "metadata": {
        "id": "sOEP6fcBBJ5c",
        "colab": {
          "base_uri": "https://localhost:8080/",
          "height": 68
        },
        "outputId": "23e30eb0-32bb-42a5-9fd4-03cb33dadb55"
      },
      "source": [
        "# calculating the range, IQR, and standard deviation of the V152 variable\n",
        "\n",
        "#getting the max and min age of household head\n",
        "max_age_head = df['V152'].max()\n",
        "min_age_head = df['V152'].min()\n",
        "\n",
        "#Getting the range of age of household head\n",
        "range_head = max_age_head-min_age_head\n",
        "\n",
        "#Getting lower and upper quantile\n",
        "low_quantile_head = df['V152'].quantile(0.25)\n",
        "up_quantile_head = df['V152'].quantile(0.75)\n",
        "\n",
        "#Getting interquantile range\n",
        "IQR_head = up_quantile_head - low_quantile_head\n",
        "\n",
        "#Getting the standard deviation of the age of the household head\n",
        "std_age_head = df['V152'].std()\n",
        "\n",
        "#Printing out our values\n",
        "print(\"The range of age of household head is \", range_head, \"years\")\n",
        "print(\"The interquantile range of the age of household head is \", IQR_head)\n",
        "print(\"The standard deviation of the age of household head is \", round(std_age_head,3))\n"
      ],
      "execution_count": null,
      "outputs": [
        {
          "output_type": "stream",
          "text": [
            "The range of age of household head is  80.0 years\n",
            "The interquantile range of the age of household head is  14.0\n",
            "The standard deviation of the age of household head is  12.434\n"
          ],
          "name": "stdout"
        }
      ]
    },
    {
      "cell_type": "markdown",
      "metadata": {
        "id": "xGRCz7I5BJ5g"
      },
      "source": [
        "**What have you noticed about the variability of these two variables?**\n",
        "1. The age range of respondents is significantly smaller than that of the household head's age.\n",
        "2. The dispersion of the respondents ages to the mean is smaller compared to the dispersion of the household head's age from the mean.\n",
        "3. The ages of respondets are well spread across the quantiles that of the household heads"
      ]
    },
    {
      "cell_type": "code",
      "metadata": {
        "id": "HDB7KDRHBJ5k",
        "colab": {
          "base_uri": "https://localhost:8080/",
          "height": 280
        },
        "outputId": "8ef5faac-8033-435b-b5b8-48db749d5b0c"
      },
      "source": [
        "# histogram of V012 variable\n",
        "\n",
        "plt.hist(df['V012'], histtype='bar',bins = 10, rwidth = 0.9, color = 'blue')\n",
        "plt.title(\"Histogram of respondents age\", pad = 5)\n",
        "plt.show()"
      ],
      "execution_count": null,
      "outputs": [
        {
          "output_type": "display_data",
          "data": {
            "image/png": "[encoded data removed]",
            "text/plain": [
              "<Figure size 432x288 with 1 Axes>"
            ]
          },
          "metadata": {
            "tags": [],
            "needs_background": "light"
          }
        }
      ]
    },
    {
      "cell_type": "code",
      "metadata": {
        "id": "7-Jr6G4JBJ5n",
        "colab": {
          "base_uri": "https://localhost:8080/",
          "height": 280
        },
        "outputId": "c30e94f8-4107-401f-b9bf-76427adb5d19"
      },
      "source": [
        "# histogram of V152 variable\n",
        "\n",
        "plt.hist(df['V152'], histtype='bar',bins = 10, rwidth = 0.9, color = 'brown')\n",
        "plt.title(\"Histogram of age of household head\", pad = 5)\n",
        "plt.show()"
      ],
      "execution_count": null,
      "outputs": [
        {
          "output_type": "display_data",
          "data": {
            "image/png": "[encoded data removed]",
            "text/plain": [
              "<Figure size 432x288 with 1 Axes>"
            ]
          },
          "metadata": {
            "tags": [],
            "needs_background": "light"
          }
        }
      ]
    },
    {
      "cell_type": "markdown",
      "metadata": {
        "id": "i1kt250HBJ5q"
      },
      "source": [
        "**What have you noticed about the skewness of the two variables?** Both variables are right skewed."
      ]
    },
    {
      "cell_type": "code",
      "metadata": {
        "id": "Tofkf-U6BJ5t",
        "colab": {
          "base_uri": "https://localhost:8080/",
          "height": 170
        },
        "outputId": "8eec2b2f-5c5f-49eb-a5c2-3d4ddd4c0337"
      },
      "source": [
        "# displaying the frequency table of the V024 variable\n",
        "\n",
        "df['V024'].value_counts()"
      ],
      "execution_count": null,
      "outputs": [
        {
          "output_type": "execute_result",
          "data": {
            "text/plain": [
              "Rift Valley      4760\n",
              "Eastern          2299\n",
              "Nyanza           2085\n",
              "Coast            1857\n",
              "Western          1398\n",
              "Central          1197\n",
              "North Eastern     925\n",
              "Nairobi           428\n",
              "Name: V024, dtype: int64"
            ]
          },
          "metadata": {
            "tags": []
          },
          "execution_count": 34
        }
      ]
    },
    {
      "cell_type": "code",
      "metadata": {
        "id": "_f4CKAj0BJ5z",
        "colab": {
          "base_uri": "https://localhost:8080/",
          "height": 363
        },
        "outputId": "2655664b-700f-4c53-e672-3867c37406b5"
      },
      "source": [
        "# plotting the bar chart of the V024 frequency table\n",
        "\n",
        "df['V024'].value_counts().plot(kind = 'bar', color = \"red\")\n",
        "plt.title(\"Number of respondents per region\", pad = 5)\n",
        "plt.xlabel(\"Region\", labelpad = 14)\n",
        "plt.ylabel(\"Number of Respondents\", labelpad = 14)\n",
        "plt.show()"
      ],
      "execution_count": null,
      "outputs": [
        {
          "output_type": "display_data",
          "data": {
            "image/png": "[encoded data removed]",
            "text/plain": [
              "<Figure size 432x288 with 1 Axes>"
            ]
          },
          "metadata": {
            "tags": [],
            "needs_background": "light"
          }
        }
      ]
    },
    {
      "cell_type": "markdown",
      "metadata": {
        "id": "XsfUDy_zVyKu"
      },
      "source": [
        "**Observation** Most respondents were from Rift Valley while the least number of repondents were from Nairobi."
      ]
    },
    {
      "cell_type": "code",
      "metadata": {
        "id": "ZS33hhsuBJ51",
        "colab": {
          "base_uri": "https://localhost:8080/",
          "height": 102
        },
        "outputId": "0689662a-8403-46fa-dfb4-02307a3e14c9"
      },
      "source": [
        "# displaying the frequency table of the V106 variable\n",
        "\n",
        "df['V106'].value_counts()"
      ],
      "execution_count": null,
      "outputs": [
        {
          "output_type": "execute_result",
          "data": {
            "text/plain": [
              "Primary         7843\n",
              "Secondary       3210\n",
              "No education    2790\n",
              "Higher          1106\n",
              "Name: V106, dtype: int64"
            ]
          },
          "metadata": {
            "tags": []
          },
          "execution_count": 39
        }
      ]
    },
    {
      "cell_type": "code",
      "metadata": {
        "id": "FT7fBr-5BJ54",
        "colab": {
          "base_uri": "https://localhost:8080/",
          "height": 370
        },
        "outputId": "baa755bb-2ab4-4e2e-dee4-21f0c2814d62"
      },
      "source": [
        "# plotting the bar chart of the V106 frequency table\n",
        "\n",
        "df['V106'].value_counts().plot(kind = 'bar', color = 'blue')\n",
        "plt.title(\"Distribution of respondents by their highest education level\", pad= 14,)\n",
        "plt.xlabel(\"Level of Education\", labelpad = 14)\n",
        "plt.ylabel(\"Number of Respondents\", labelpad = 14)\n",
        "plt.show()"
      ],
      "execution_count": null,
      "outputs": [
        {
          "output_type": "display_data",
          "data": {
            "image/png": "[encoded data removed]",
            "text/plain": [
              "<Figure size 432x288 with 1 Axes>"
            ]
          },
          "metadata": {
            "tags": [],
            "needs_background": "light"
          }
        }
      ]
    },
    {
      "cell_type": "markdown",
      "metadata": {
        "id": "SkIH_sVDXuMu"
      },
      "source": [
        "**Observation:** \n",
        "1. Most respondents never advanced beyond primary school level. \n",
        "2. A sizeable number never went to school. \n",
        "3. A few of the respondents have tertiary level of education"
      ]
    },
    {
      "cell_type": "code",
      "metadata": {
        "id": "uhMQ_eHwBJ59",
        "colab": {
          "base_uri": "https://localhost:8080/",
          "height": 313
        },
        "outputId": "ecfc0819-01da-407c-f866-875c0e0a5038"
      },
      "source": [
        "# plotting a boxplot of V201 by V025\n",
        "\n",
        "sns.boxplot(x=df['V201'], y=df['V025'], showmeans = True)\n",
        "plt.title(\"BoxPlot of Number of children by Type of residence\", pad = 14)\n",
        "plt.xlabel(\"Number of Children\", labelpad = 14)\n",
        "plt.ylabel(\"Area of Residence\", labelpad = 14)\n",
        "plt.show()"
      ],
      "execution_count": null,
      "outputs": [
        {
          "output_type": "display_data",
          "data": {
            "image/png": "[encoded data removed]",
            "text/plain": [
              "<Figure size 432x288 with 1 Axes>"
            ]
          },
          "metadata": {
            "tags": [],
            "needs_background": "light"
          }
        }
      ]
    },
    {
      "cell_type": "markdown",
      "metadata": {
        "id": "rx6GmweSaG2y"
      },
      "source": [
        "**Observations:**\n",
        "1. The mean number of children that respondents living in urban areas had was 2 children.\n",
        "2. The mean number of children that respondents living in rural areas had was 3 children.\n",
        "3. Respondents living in urban areas had a maximum of 8 children.\n",
        "4. Respondents living in rural areas had a maximum of 9 children.\n",
        "5. Outliers exist in both cases though the level of outliers is greater among respondents living in rural areas."
      ]
    },
    {
      "cell_type": "code",
      "metadata": {
        "id": "RuMurijzBJ6C",
        "colab": {
          "base_uri": "https://localhost:8080/",
          "height": 313
        },
        "outputId": "10c4910e-00a3-4ef1-f826-5ab3c9fa3de4"
      },
      "source": [
        "# plotting a boxplot of V201 by V106\n",
        "\n",
        "sns.boxplot(x=df['V201'], y=df['V106'], showmeans = True)\n",
        "plt.title(\"BoxPlot of Number of children by Level of Education\", pad = 14)\n",
        "plt.xlabel(\"Number of Children\", labelpad = 14)\n",
        "plt.ylabel(\"Level of Education\", labelpad = 14)\n",
        "plt.show()"
      ],
      "execution_count": null,
      "outputs": [
        {
          "output_type": "display_data",
          "data": {
            "image/png": "[encoded data removed]",
            "text/plain": [
              "<Figure size 432x288 with 1 Axes>"
            ]
          },
          "metadata": {
            "tags": [],
            "needs_background": "light"
          }
        }
      ]
    },
    {
      "cell_type": "markdown",
      "metadata": {
        "id": "KS8M5Qn8c-u4"
      },
      "source": [
        "**Observations:**\n",
        "1. The mean number of children had by respondents with secondary level education was 2 children. The minimum was 1 child while the maximum was 6 children.\n",
        "2. The mean number of children had by respondents with primary level education was 3 children. The minimum number was 1 child while the maximum was 9 children.\n",
        "3. The mean number of children had by respondents with no education qualification was 4 children. The minium was 1 child while the maximum was 10 children.\n",
        "4. The mean number of children had by respondents with a higher education level was 1 child.The minimum was 1 child while the maximum was 3 children.\n",
        "5. The value of outliers is greatest among respondents with no education qualification and least amont those with a higher education qualification.\n",
        "\n"
      ]
    },
    {
      "cell_type": "code",
      "metadata": {
        "id": "7BqxU7URBJ6G",
        "colab": {
          "base_uri": "https://localhost:8080/",
          "height": 313
        },
        "outputId": "3a9a2282-36ee-4c7b-8956-c7746ee80aa3"
      },
      "source": [
        "# plotting a boxplot of V201 by V024\n",
        "\n",
        "sns.boxplot(x=df['V201'], y=df['V024'], showmeans = True)\n",
        "plt.title(\"BoxPlot of Number of children by Region\", pad = 14)\n",
        "plt.xlabel(\"Number of Children\", labelpad = 14)\n",
        "plt.ylabel(\"Region\", labelpad = 14)\n",
        "plt.show()"
      ],
      "execution_count": null,
      "outputs": [
        {
          "output_type": "display_data",
          "data": {
            "image/png": "[encoded data removed]",
            "text/plain": [
              "<Figure size 432x288 with 1 Axes>"
            ]
          },
          "metadata": {
            "tags": [],
            "needs_background": "light"
          }
        }
      ]
    },
    {
      "cell_type": "markdown",
      "metadata": {
        "id": "kKt-S3LChXvW"
      },
      "source": [
        "**Observations:**\n",
        "1. The mean number of children had by respondents in Nairobi and central region was 2 children. The number was 3 children in coast, eastern, Nyanza, Rift Valley and western region. The number was highest among respondents in north eastern region with a mean of 5 children.\n",
        "2. The minimum number of children had by respondents in all regions was 1 child.\n",
        "3. The maximum number of chilren among resondents in Nairobi and central regions was 6 children. The number was 5 among respondents from eastern region while respondents from Coast, Nyanza, Rift Valley and Western regions had a maximum count of 9 children. Repondent from North Eastern had a maimum of 10 children.\n",
        "4. Outliers existed in all regions.\n"
      ]
    },
    {
      "cell_type": "code",
      "metadata": {
        "id": "Qv38s1xnBJ6W",
        "colab": {
          "base_uri": "https://localhost:8080/",
          "height": 313
        },
        "outputId": "db33b8ef-ee66-4ab9-915e-93b71a3ab1d1"
      },
      "source": [
        "# scatter plot of V201 by V012\n",
        "\n",
        "df.plot.scatter(x='V012',y = 'V201')\n",
        "plt.title(\"Scatter plot of Respondent's Age by Number of children\", pad = 14)\n",
        "plt.xlabel(\"Age\", labelpad = 14)\n",
        "plt.ylabel(\"Number of Children\", labelpad = 14)\n",
        "plt.show()"
      ],
      "execution_count": null,
      "outputs": [
        {
          "output_type": "display_data",
          "data": {
            "image/png": "[encoded data removed]",
            "text/plain": [
              "<Figure size 432x288 with 1 Axes>"
            ]
          },
          "metadata": {
            "tags": [],
            "needs_background": "light"
          }
        }
      ]
    },
    {
      "cell_type": "markdown",
      "metadata": {
        "id": "hVrTKIczkxpU"
      },
      "source": [
        "**Observation:**\n",
        "The number of children increases with an increase in age."
      ]
    },
    {
      "cell_type": "code",
      "metadata": {
        "id": "kRdc3lwPBJ6Z",
        "colab": {
          "base_uri": "https://localhost:8080/",
          "height": 34
        },
        "outputId": "eeef2af5-f1e4-4515-f946-19e5474143ff"
      },
      "source": [
        "# previewing the correlation between the V201 and the V012 variables\n",
        "df[\"V201\"].corr(df[\"V012\"], method=\"pearson\") \n"
      ],
      "execution_count": null,
      "outputs": [
        {
          "output_type": "execute_result",
          "data": {
            "text/plain": [
              "0.7104720955348267"
            ]
          },
          "metadata": {
            "tags": []
          },
          "execution_count": 57
        }
      ]
    },
    {
      "cell_type": "markdown",
      "metadata": {
        "id": "EZCXOuEGBJ6c"
      },
      "source": [
        "**What have you noticed about the relationship between the V201 and V012 variables based on the scatter plot and the Pearson Correlation Coefficient?** \n",
        "There is atrong correlation between the number of children the respondent's have with their age."
      ]
    },
    {
      "cell_type": "markdown",
      "metadata": {
        "id": "EyIzV1noBJ6d"
      },
      "source": [
        "## <font color='#2F4F4F'>3. Summary of Findings</font>"
      ]
    },
    {
      "cell_type": "markdown",
      "metadata": {
        "id": "B3U6TxE-BJ6e"
      },
      "source": [
        "-** What do the histograms tell you about the ages of the respondents and od the Household Heads?**\n",
        "Most of the respondents are between the ages of 18 and 35 years while most household heads are between the ages of 23 and 47 years.\n",
        "- **Which region has the most number of respondents? Which region has the least?** Rift Valley had the most number of respondents while Nairobi had the least.\n",
        "- **Which level of education has been attained by majority of the respondents? Which has been attained by the minority?** Majority of the respondents have a primary level education qualification while the minority of the respondents have a higher education qualification.\n",
        "- **Which type of residency are more children born in: rural or urban?** The rural region has more children born.\n",
        "- **Which education level are more children born to?** More children are born by respondents with no education qualification.\n",
        "- **Which region leads in terms of total children born? Which region is the last?** North Eastern region has the most children born while Nairobi and Central regions have the least number of children born.\n",
        "- **Are more children born to younger women or older women?** More children are born by older women."
      ]
    }
  ]
}